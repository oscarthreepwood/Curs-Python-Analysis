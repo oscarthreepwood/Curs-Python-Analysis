{
 "cells": [
  {
   "cell_type": "markdown",
   "metadata": {},
   "source": [
    "# Importar llibreries"
   ]
  },
  {
   "cell_type": "code",
   "execution_count": 5,
   "metadata": {},
   "outputs": [],
   "source": [
    "import pandas as pd\n",
    "import matplotlib.pyplot as plt"
   ]
  },
  {
   "cell_type": "markdown",
   "metadata": {},
   "source": [
    "# Importar taules amb pandas i vista d'ocell"
   ]
  },
  {
   "cell_type": "code",
   "execution_count": 6,
   "metadata": {},
   "outputs": [],
   "source": [
    "taula=pd.read_csv(\"/Users/oscarpo/documents/NFLX.csv\")"
   ]
  },
  {
   "cell_type": "code",
   "execution_count": 7,
   "metadata": {},
   "outputs": [
    {
     "data": {
      "text/html": [
       "<div>\n",
       "<style scoped>\n",
       "    .dataframe tbody tr th:only-of-type {\n",
       "        vertical-align: middle;\n",
       "    }\n",
       "\n",
       "    .dataframe tbody tr th {\n",
       "        vertical-align: top;\n",
       "    }\n",
       "\n",
       "    .dataframe thead th {\n",
       "        text-align: right;\n",
       "    }\n",
       "</style>\n",
       "<table border=\"1\" class=\"dataframe\">\n",
       "  <thead>\n",
       "    <tr style=\"text-align: right;\">\n",
       "      <th></th>\n",
       "      <th>Date</th>\n",
       "      <th>Open</th>\n",
       "      <th>High</th>\n",
       "      <th>Low</th>\n",
       "      <th>Close</th>\n",
       "      <th>Adj Close</th>\n",
       "      <th>Volume</th>\n",
       "    </tr>\n",
       "  </thead>\n",
       "  <tbody>\n",
       "    <tr>\n",
       "      <td>247</td>\n",
       "      <td>2019-12-17</td>\n",
       "      <td>307.359985</td>\n",
       "      <td>316.799988</td>\n",
       "      <td>306.600006</td>\n",
       "      <td>315.480011</td>\n",
       "      <td>315.480011</td>\n",
       "      <td>10427100</td>\n",
       "    </tr>\n",
       "    <tr>\n",
       "      <td>248</td>\n",
       "      <td>2019-12-18</td>\n",
       "      <td>316.260010</td>\n",
       "      <td>325.359985</td>\n",
       "      <td>315.600006</td>\n",
       "      <td>320.799988</td>\n",
       "      <td>320.799988</td>\n",
       "      <td>11207400</td>\n",
       "    </tr>\n",
       "    <tr>\n",
       "      <td>249</td>\n",
       "      <td>2019-12-19</td>\n",
       "      <td>324.500000</td>\n",
       "      <td>332.829987</td>\n",
       "      <td>324.179993</td>\n",
       "      <td>332.220001</td>\n",
       "      <td>332.220001</td>\n",
       "      <td>9822300</td>\n",
       "    </tr>\n",
       "    <tr>\n",
       "      <td>250</td>\n",
       "      <td>2019-12-20</td>\n",
       "      <td>335.000000</td>\n",
       "      <td>338.000000</td>\n",
       "      <td>330.600006</td>\n",
       "      <td>336.899994</td>\n",
       "      <td>336.899994</td>\n",
       "      <td>9914900</td>\n",
       "    </tr>\n",
       "    <tr>\n",
       "      <td>251</td>\n",
       "      <td>2019-12-23</td>\n",
       "      <td>337.760010</td>\n",
       "      <td>337.950012</td>\n",
       "      <td>331.040009</td>\n",
       "      <td>333.100006</td>\n",
       "      <td>333.100006</td>\n",
       "      <td>5130465</td>\n",
       "    </tr>\n",
       "  </tbody>\n",
       "</table>\n",
       "</div>"
      ],
      "text/plain": [
       "           Date        Open        High         Low       Close   Adj Close  \\\n",
       "247  2019-12-17  307.359985  316.799988  306.600006  315.480011  315.480011   \n",
       "248  2019-12-18  316.260010  325.359985  315.600006  320.799988  320.799988   \n",
       "249  2019-12-19  324.500000  332.829987  324.179993  332.220001  332.220001   \n",
       "250  2019-12-20  335.000000  338.000000  330.600006  336.899994  336.899994   \n",
       "251  2019-12-23  337.760010  337.950012  331.040009  333.100006  333.100006   \n",
       "\n",
       "       Volume  \n",
       "247  10427100  \n",
       "248  11207400  \n",
       "249   9822300  \n",
       "250   9914900  \n",
       "251   5130465  "
      ]
     },
     "execution_count": 7,
     "metadata": {},
     "output_type": "execute_result"
    }
   ],
   "source": [
    "taula.tail()"
   ]
  },
  {
   "cell_type": "code",
   "execution_count": 8,
   "metadata": {},
   "outputs": [
    {
     "data": {
      "text/plain": [
       "(252, 7)"
      ]
     },
     "execution_count": 8,
     "metadata": {},
     "output_type": "execute_result"
    }
   ],
   "source": [
    "taula.shape"
   ]
  },
  {
   "cell_type": "markdown",
   "metadata": {},
   "source": [
    "# Creació variables bàsiques"
   ]
  },
  {
   "cell_type": "code",
   "execution_count": 9,
   "metadata": {},
   "outputs": [],
   "source": [
    "taula['Close1']=taula['Close'].shift(-1)"
   ]
  },
  {
   "cell_type": "code",
   "execution_count": 10,
   "metadata": {},
   "outputs": [],
   "source": [
    "#diferencia de preu respecte al del di seguent\n",
    "taula['PriceDiff'] = taula['Close'].shift(-1)- taula['Close']"
   ]
  },
  {
   "cell_type": "code",
   "execution_count": 11,
   "metadata": {},
   "outputs": [],
   "source": [
    "taula['Return'] = taula['PriceDiff'] /taula['Close']"
   ]
  },
  {
   "cell_type": "code",
   "execution_count": 12,
   "metadata": {},
   "outputs": [],
   "source": [
    "#Create a new column Direction. \n",
    "#The List Comprehension means : if the price difference is larger than 0, denote as 1, otherwise, denote as 0,\n",
    "#for every record in the DataFrame - taula\n",
    "\n",
    "taula['Direction'] = [1 if taula['PriceDiff'].loc[ei] > 0 else 0 for ei in taula.index ]"
   ]
  },
  {
   "cell_type": "code",
   "execution_count": 13,
   "metadata": {},
   "outputs": [
    {
     "data": {
      "text/html": [
       "<div>\n",
       "<style scoped>\n",
       "    .dataframe tbody tr th:only-of-type {\n",
       "        vertical-align: middle;\n",
       "    }\n",
       "\n",
       "    .dataframe tbody tr th {\n",
       "        vertical-align: top;\n",
       "    }\n",
       "\n",
       "    .dataframe thead th {\n",
       "        text-align: right;\n",
       "    }\n",
       "</style>\n",
       "<table border=\"1\" class=\"dataframe\">\n",
       "  <thead>\n",
       "    <tr style=\"text-align: right;\">\n",
       "      <th></th>\n",
       "      <th>Date</th>\n",
       "      <th>Open</th>\n",
       "      <th>High</th>\n",
       "      <th>Low</th>\n",
       "      <th>Close</th>\n",
       "      <th>Adj Close</th>\n",
       "      <th>Volume</th>\n",
       "      <th>Close1</th>\n",
       "      <th>PriceDiff</th>\n",
       "      <th>Return</th>\n",
       "      <th>Direction</th>\n",
       "      <th>ma10</th>\n",
       "      <th>ma50</th>\n",
       "    </tr>\n",
       "  </thead>\n",
       "  <tbody>\n",
       "    <tr>\n",
       "      <td>247</td>\n",
       "      <td>2019-12-17</td>\n",
       "      <td>307.359985</td>\n",
       "      <td>316.799988</td>\n",
       "      <td>306.600006</td>\n",
       "      <td>315.480011</td>\n",
       "      <td>315.480011</td>\n",
       "      <td>10427100</td>\n",
       "      <td>320.799988</td>\n",
       "      <td>5.319977</td>\n",
       "      <td>0.016863</td>\n",
       "      <td>1</td>\n",
       "      <td>302.570999</td>\n",
       "      <td>293.139999</td>\n",
       "    </tr>\n",
       "    <tr>\n",
       "      <td>248</td>\n",
       "      <td>2019-12-18</td>\n",
       "      <td>316.260010</td>\n",
       "      <td>325.359985</td>\n",
       "      <td>315.600006</td>\n",
       "      <td>320.799988</td>\n",
       "      <td>320.799988</td>\n",
       "      <td>11207400</td>\n",
       "      <td>332.220001</td>\n",
       "      <td>11.420013</td>\n",
       "      <td>0.035599</td>\n",
       "      <td>1</td>\n",
       "      <td>304.218997</td>\n",
       "      <td>294.141598</td>\n",
       "    </tr>\n",
       "    <tr>\n",
       "      <td>249</td>\n",
       "      <td>2019-12-19</td>\n",
       "      <td>324.500000</td>\n",
       "      <td>332.829987</td>\n",
       "      <td>324.179993</td>\n",
       "      <td>332.220001</td>\n",
       "      <td>332.220001</td>\n",
       "      <td>9822300</td>\n",
       "      <td>336.899994</td>\n",
       "      <td>4.679993</td>\n",
       "      <td>0.014087</td>\n",
       "      <td>1</td>\n",
       "      <td>307.154999</td>\n",
       "      <td>295.435399</td>\n",
       "    </tr>\n",
       "    <tr>\n",
       "      <td>250</td>\n",
       "      <td>2019-12-20</td>\n",
       "      <td>335.000000</td>\n",
       "      <td>338.000000</td>\n",
       "      <td>330.600006</td>\n",
       "      <td>336.899994</td>\n",
       "      <td>336.899994</td>\n",
       "      <td>9914900</td>\n",
       "      <td>333.100006</td>\n",
       "      <td>-3.799988</td>\n",
       "      <td>-0.011279</td>\n",
       "      <td>0</td>\n",
       "      <td>310.109998</td>\n",
       "      <td>296.563798</td>\n",
       "    </tr>\n",
       "    <tr>\n",
       "      <td>251</td>\n",
       "      <td>2019-12-23</td>\n",
       "      <td>337.760010</td>\n",
       "      <td>337.950012</td>\n",
       "      <td>331.040009</td>\n",
       "      <td>333.100006</td>\n",
       "      <td>333.100006</td>\n",
       "      <td>5130465</td>\n",
       "      <td>NaN</td>\n",
       "      <td>NaN</td>\n",
       "      <td>NaN</td>\n",
       "      <td>0</td>\n",
       "      <td>313.169998</td>\n",
       "      <td>297.567198</td>\n",
       "    </tr>\n",
       "  </tbody>\n",
       "</table>\n",
       "</div>"
      ],
      "text/plain": [
       "           Date        Open        High         Low       Close   Adj Close  \\\n",
       "247  2019-12-17  307.359985  316.799988  306.600006  315.480011  315.480011   \n",
       "248  2019-12-18  316.260010  325.359985  315.600006  320.799988  320.799988   \n",
       "249  2019-12-19  324.500000  332.829987  324.179993  332.220001  332.220001   \n",
       "250  2019-12-20  335.000000  338.000000  330.600006  336.899994  336.899994   \n",
       "251  2019-12-23  337.760010  337.950012  331.040009  333.100006  333.100006   \n",
       "\n",
       "       Volume      Close1  PriceDiff    Return  Direction        ma10  \\\n",
       "247  10427100  320.799988   5.319977  0.016863          1  302.570999   \n",
       "248  11207400  332.220001  11.420013  0.035599          1  304.218997   \n",
       "249   9822300  336.899994   4.679993  0.014087          1  307.154999   \n",
       "250   9914900  333.100006  -3.799988 -0.011279          0  310.109998   \n",
       "251   5130465         NaN        NaN       NaN          0  313.169998   \n",
       "\n",
       "           ma50  \n",
       "247  293.139999  \n",
       "248  294.141598  \n",
       "249  295.435399  \n",
       "250  296.563798  \n",
       "251  297.567198  "
      ]
     },
     "execution_count": 13,
     "metadata": {},
     "output_type": "execute_result"
    }
   ],
   "source": [
    "taula['ma10'] = taula['Close'].rolling(10).mean() #fast signal\n",
    "taula['ma50'] = taula['Close'].rolling(50).mean() #slow signal\n",
    "\n",
    "taula.tail()"
   ]
  },
  {
   "cell_type": "code",
   "execution_count": 26,
   "metadata": {},
   "outputs": [
    {
     "data": {
      "image/png": "[encoded data removed]",
      "text/plain": [
       "<Figure size 432x288 with 1 Axes>"
      ]
     },
     "metadata": {
      "needs_background": "light"
     },
     "output_type": "display_data"
    }
   ],
   "source": [
    "#plot the moving average\n",
    "#plt.figure(figsiz2=(10, 8))\n",
    "taula['ma10'].plot(label='MA10')\n",
    "taula['ma50'].plot(label='MA50')\n",
    "taula['Close'].plot(label='Close')\n",
    "plt.legend()\n",
    "plt.xlabel('Time (days)') \n",
    "plt.show()"
   ]
  },
  {
   "cell_type": "markdown",
   "metadata": {},
   "source": [
    "# Creació Factors:"
   ]
  },
  {
   "cell_type": "code",
   "execution_count": 15,
   "metadata": {},
   "outputs": [],
   "source": [
    "#pendent"
   ]
  },
  {
   "cell_type": "markdown",
   "metadata": {},
   "source": [
    "# Creació Puntuacions:"
   ]
  },
  {
   "cell_type": "code",
   "execution_count": 16,
   "metadata": {},
   "outputs": [],
   "source": [
    "#pendent"
   ]
  },
  {
   "cell_type": "markdown",
   "metadata": {},
   "source": [
    "# Estratègia 1: Si MA10 > MA50 --> Buy and hold 1 share"
   ]
  },
  {
   "cell_type": "code",
   "execution_count": 17,
   "metadata": {},
   "outputs": [],
   "source": [
    "taula['shares']=[1 if taula.loc[ei,'ma10'] > taula.loc[ei,'ma50'] else 0\n",
    "              for ei in taula.index]"
   ]
  },
  {
   "cell_type": "code",
   "execution_count": 28,
   "metadata": {},
   "outputs": [
    {
     "data": {
      "text/plain": [
       "Text(0, 0.5, 'Profit (resultat diari)')"
      ]
     },
     "execution_count": 28,
     "metadata": {},
     "output_type": "execute_result"
    },
    {
     "data": {
      "image/png": "[encoded data removed]",
      "text/plain": [
       "<Figure size 432x288 with 1 Axes>"
      ]
     },
     "metadata": {
      "needs_background": "light"
     },
     "output_type": "display_data"
    }
   ],
   "source": [
    "taula['profit']=[taula.loc[ei,'Close1'] - taula.loc[ei,'Close'] \n",
    "                 if taula.loc[ei, 'shares']==1 else 0\n",
    "                 for ei in taula.index]\n",
    "\n",
    "taula['profit'].plot()\n",
    "plt.axhline(y=0,color='red')\n",
    "plt.xlabel('Time (days)') \n",
    "plt.ylabel('Profit (resultat diari) ($)') "
   ]
  },
  {
   "cell_type": "code",
   "execution_count": 19,
   "metadata": {},
   "outputs": [],
   "source": [
    "taula['wealth']=taula['profit'].cumsum()"
   ]
  },
  {
   "cell_type": "code",
   "execution_count": 20,
   "metadata": {},
   "outputs": [
    {
     "data": {
      "text/html": [
       "<div>\n",
       "<style scoped>\n",
       "    .dataframe tbody tr th:only-of-type {\n",
       "        vertical-align: middle;\n",
       "    }\n",
       "\n",
       "    .dataframe tbody tr th {\n",
       "        vertical-align: top;\n",
       "    }\n",
       "\n",
       "    .dataframe thead th {\n",
       "        text-align: right;\n",
       "    }\n",
       "</style>\n",
       "<table border=\"1\" class=\"dataframe\">\n",
       "  <thead>\n",
       "    <tr style=\"text-align: right;\">\n",
       "      <th></th>\n",
       "      <th>Date</th>\n",
       "      <th>Open</th>\n",
       "      <th>High</th>\n",
       "      <th>Low</th>\n",
       "      <th>Close</th>\n",
       "      <th>Adj Close</th>\n",
       "      <th>Volume</th>\n",
       "      <th>Close1</th>\n",
       "      <th>PriceDiff</th>\n",
       "      <th>Return</th>\n",
       "      <th>Direction</th>\n",
       "      <th>ma10</th>\n",
       "      <th>ma50</th>\n",
       "      <th>shares</th>\n",
       "      <th>profit</th>\n",
       "      <th>wealth</th>\n",
       "    </tr>\n",
       "  </thead>\n",
       "  <tbody>\n",
       "    <tr>\n",
       "      <td>247</td>\n",
       "      <td>2019-12-17</td>\n",
       "      <td>307.359985</td>\n",
       "      <td>316.799988</td>\n",
       "      <td>306.600006</td>\n",
       "      <td>315.480011</td>\n",
       "      <td>315.480011</td>\n",
       "      <td>10427100</td>\n",
       "      <td>320.799988</td>\n",
       "      <td>5.319977</td>\n",
       "      <td>0.016863</td>\n",
       "      <td>1</td>\n",
       "      <td>302.570999</td>\n",
       "      <td>293.139999</td>\n",
       "      <td>1</td>\n",
       "      <td>5.319977</td>\n",
       "      <td>-19.920013</td>\n",
       "    </tr>\n",
       "    <tr>\n",
       "      <td>248</td>\n",
       "      <td>2019-12-18</td>\n",
       "      <td>316.260010</td>\n",
       "      <td>325.359985</td>\n",
       "      <td>315.600006</td>\n",
       "      <td>320.799988</td>\n",
       "      <td>320.799988</td>\n",
       "      <td>11207400</td>\n",
       "      <td>332.220001</td>\n",
       "      <td>11.420013</td>\n",
       "      <td>0.035599</td>\n",
       "      <td>1</td>\n",
       "      <td>304.218997</td>\n",
       "      <td>294.141598</td>\n",
       "      <td>1</td>\n",
       "      <td>11.420013</td>\n",
       "      <td>-8.500000</td>\n",
       "    </tr>\n",
       "    <tr>\n",
       "      <td>249</td>\n",
       "      <td>2019-12-19</td>\n",
       "      <td>324.500000</td>\n",
       "      <td>332.829987</td>\n",
       "      <td>324.179993</td>\n",
       "      <td>332.220001</td>\n",
       "      <td>332.220001</td>\n",
       "      <td>9822300</td>\n",
       "      <td>336.899994</td>\n",
       "      <td>4.679993</td>\n",
       "      <td>0.014087</td>\n",
       "      <td>1</td>\n",
       "      <td>307.154999</td>\n",
       "      <td>295.435399</td>\n",
       "      <td>1</td>\n",
       "      <td>4.679993</td>\n",
       "      <td>-3.820007</td>\n",
       "    </tr>\n",
       "    <tr>\n",
       "      <td>250</td>\n",
       "      <td>2019-12-20</td>\n",
       "      <td>335.000000</td>\n",
       "      <td>338.000000</td>\n",
       "      <td>330.600006</td>\n",
       "      <td>336.899994</td>\n",
       "      <td>336.899994</td>\n",
       "      <td>9914900</td>\n",
       "      <td>333.100006</td>\n",
       "      <td>-3.799988</td>\n",
       "      <td>-0.011279</td>\n",
       "      <td>0</td>\n",
       "      <td>310.109998</td>\n",
       "      <td>296.563798</td>\n",
       "      <td>1</td>\n",
       "      <td>-3.799988</td>\n",
       "      <td>-7.619995</td>\n",
       "    </tr>\n",
       "    <tr>\n",
       "      <td>251</td>\n",
       "      <td>2019-12-23</td>\n",
       "      <td>337.760010</td>\n",
       "      <td>337.950012</td>\n",
       "      <td>331.040009</td>\n",
       "      <td>333.100006</td>\n",
       "      <td>333.100006</td>\n",
       "      <td>5130465</td>\n",
       "      <td>NaN</td>\n",
       "      <td>NaN</td>\n",
       "      <td>NaN</td>\n",
       "      <td>0</td>\n",
       "      <td>313.169998</td>\n",
       "      <td>297.567198</td>\n",
       "      <td>1</td>\n",
       "      <td>NaN</td>\n",
       "      <td>NaN</td>\n",
       "    </tr>\n",
       "  </tbody>\n",
       "</table>\n",
       "</div>"
      ],
      "text/plain": [
       "           Date        Open        High         Low       Close   Adj Close  \\\n",
       "247  2019-12-17  307.359985  316.799988  306.600006  315.480011  315.480011   \n",
       "248  2019-12-18  316.260010  325.359985  315.600006  320.799988  320.799988   \n",
       "249  2019-12-19  324.500000  332.829987  324.179993  332.220001  332.220001   \n",
       "250  2019-12-20  335.000000  338.000000  330.600006  336.899994  336.899994   \n",
       "251  2019-12-23  337.760010  337.950012  331.040009  333.100006  333.100006   \n",
       "\n",
       "       Volume      Close1  PriceDiff    Return  Direction        ma10  \\\n",
       "247  10427100  320.799988   5.319977  0.016863          1  302.570999   \n",
       "248  11207400  332.220001  11.420013  0.035599          1  304.218997   \n",
       "249   9822300  336.899994   4.679993  0.014087          1  307.154999   \n",
       "250   9914900  333.100006  -3.799988 -0.011279          0  310.109998   \n",
       "251   5130465         NaN        NaN       NaN          0  313.169998   \n",
       "\n",
       "           ma50  shares     profit     wealth  \n",
       "247  293.139999       1   5.319977 -19.920013  \n",
       "248  294.141598       1  11.420013  -8.500000  \n",
       "249  295.435399       1   4.679993  -3.820007  \n",
       "250  296.563798       1  -3.799988  -7.619995  \n",
       "251  297.567198       1        NaN        NaN  "
      ]
     },
     "execution_count": 20,
     "metadata": {},
     "output_type": "execute_result"
    }
   ],
   "source": [
    "taula.tail()"
   ]
  },
  {
   "cell_type": "code",
   "execution_count": 27,
   "metadata": {},
   "outputs": [
    {
     "data": {
      "text/plain": [
       "Text(0, 0.5, 'Wealth (Resultats) ($)')"
      ]
     },
     "execution_count": 27,
     "metadata": {},
     "output_type": "execute_result"
    },
    {
     "data": {
      "image/png": "[encoded data removed]",
      "text/plain": [
       "<Figure size 432x288 with 1 Axes>"
      ]
     },
     "metadata": {
      "needs_background": "light"
     },
     "output_type": "display_data"
    }
   ],
   "source": [
    "taula['wealth'].plot()\n",
    "plt.axhline(y=0,color='red')\n",
    "plt.xlabel('Time (days)') \n",
    "plt.ylabel('Wealth (Resultats) ($)') "
   ]
  },
  {
   "cell_type": "code",
   "execution_count": null,
   "metadata": {},
   "outputs": [],
   "source": []
  },
  {
   "cell_type": "code",
   "execution_count": null,
   "metadata": {},
   "outputs": [],
   "source": []
  },
  {
   "cell_type": "code",
   "execution_count": null,
   "metadata": {},
   "outputs": [],
   "source": []
  }
 ],
 "metadata": {
  "kernelspec": {
   "display_name": "Python 3",
   "language": "python",
   "name": "python3"
  },
  "language_info": {
   "codemirror_mode": {
    "name": "ipython",
    "version": 3
   },
   "file_extension": ".py",
   "mimetype": "text/x-python",
   "name": "python",
   "nbconvert_exporter": "python",
   "pygments_lexer": "ipython3",
   "version": "3.7.4"
  }
 },
 "nbformat": 4,
 "nbformat_minor": 2
}
