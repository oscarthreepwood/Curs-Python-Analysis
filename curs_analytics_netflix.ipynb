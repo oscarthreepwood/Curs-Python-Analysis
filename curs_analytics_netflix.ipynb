{
 "cells": [
  {
   "cell_type": "markdown",
   "metadata": {},
   "source": [
    "# Importar llibreries"
   ]
  },
  {
   "cell_type": "code",
   "execution_count": 1,
   "metadata": {},
   "outputs": [],
   "source": [
    "import pandas as pd\n",
    "import numpy as np\n",
    "import matplotlib.pyplot as plt"
   ]
  },
  {
   "cell_type": "markdown",
   "metadata": {},
   "source": [
    "# Importar taules amb pandas i vista d'ocell"
   ]
  },
  {
   "cell_type": "code",
   "execution_count": 47,
   "metadata": {},
   "outputs": [],
   "source": [
    "taula=pd.read_csv(\"/Users/oscarpo/documents/NFLX.csv\")"
   ]
  },
  {
   "cell_type": "code",
   "execution_count": 48,
   "metadata": {},
   "outputs": [
    {
     "data": {
      "text/html": [
       "<div>\n",
       "<style scoped>\n",
       "    .dataframe tbody tr th:only-of-type {\n",
       "        vertical-align: middle;\n",
       "    }\n",
       "\n",
       "    .dataframe tbody tr th {\n",
       "        vertical-align: top;\n",
       "    }\n",
       "\n",
       "    .dataframe thead th {\n",
       "        text-align: right;\n",
       "    }\n",
       "</style>\n",
       "<table border=\"1\" class=\"dataframe\">\n",
       "  <thead>\n",
       "    <tr style=\"text-align: right;\">\n",
       "      <th></th>\n",
       "      <th>Date</th>\n",
       "      <th>Open</th>\n",
       "      <th>High</th>\n",
       "      <th>Low</th>\n",
       "      <th>Close</th>\n",
       "      <th>Adj Close</th>\n",
       "      <th>Volume</th>\n",
       "    </tr>\n",
       "  </thead>\n",
       "  <tbody>\n",
       "    <tr>\n",
       "      <th>247</th>\n",
       "      <td>2019-12-17</td>\n",
       "      <td>307.359985</td>\n",
       "      <td>316.799988</td>\n",
       "      <td>306.600006</td>\n",
       "      <td>315.480011</td>\n",
       "      <td>315.480011</td>\n",
       "      <td>10427100</td>\n",
       "    </tr>\n",
       "    <tr>\n",
       "      <th>248</th>\n",
       "      <td>2019-12-18</td>\n",
       "      <td>316.260010</td>\n",
       "      <td>325.359985</td>\n",
       "      <td>315.600006</td>\n",
       "      <td>320.799988</td>\n",
       "      <td>320.799988</td>\n",
       "      <td>11207400</td>\n",
       "    </tr>\n",
       "    <tr>\n",
       "      <th>249</th>\n",
       "      <td>2019-12-19</td>\n",
       "      <td>324.500000</td>\n",
       "      <td>332.829987</td>\n",
       "      <td>324.179993</td>\n",
       "      <td>332.220001</td>\n",
       "      <td>332.220001</td>\n",
       "      <td>9822300</td>\n",
       "    </tr>\n",
       "    <tr>\n",
       "      <th>250</th>\n",
       "      <td>2019-12-20</td>\n",
       "      <td>335.000000</td>\n",
       "      <td>338.000000</td>\n",
       "      <td>330.600006</td>\n",
       "      <td>336.899994</td>\n",
       "      <td>336.899994</td>\n",
       "      <td>9914900</td>\n",
       "    </tr>\n",
       "    <tr>\n",
       "      <th>251</th>\n",
       "      <td>2019-12-23</td>\n",
       "      <td>337.760010</td>\n",
       "      <td>337.950012</td>\n",
       "      <td>331.040009</td>\n",
       "      <td>333.100006</td>\n",
       "      <td>333.100006</td>\n",
       "      <td>5130465</td>\n",
       "    </tr>\n",
       "  </tbody>\n",
       "</table>\n",
       "</div>"
      ],
      "text/plain": [
       "           Date        Open        High         Low       Close   Adj Close  \\\n",
       "247  2019-12-17  307.359985  316.799988  306.600006  315.480011  315.480011   \n",
       "248  2019-12-18  316.260010  325.359985  315.600006  320.799988  320.799988   \n",
       "249  2019-12-19  324.500000  332.829987  324.179993  332.220001  332.220001   \n",
       "250  2019-12-20  335.000000  338.000000  330.600006  336.899994  336.899994   \n",
       "251  2019-12-23  337.760010  337.950012  331.040009  333.100006  333.100006   \n",
       "\n",
       "       Volume  \n",
       "247  10427100  \n",
       "248  11207400  \n",
       "249   9822300  \n",
       "250   9914900  \n",
       "251   5130465  "
      ]
     },
     "execution_count": 48,
     "metadata": {},
     "output_type": "execute_result"
    }
   ],
   "source": [
    "taula.tail()"
   ]
  },
  {
   "cell_type": "code",
   "execution_count": 49,
   "metadata": {},
   "outputs": [
    {
     "data": {
      "text/plain": [
       "(252, 7)"
      ]
     },
     "execution_count": 49,
     "metadata": {},
     "output_type": "execute_result"
    }
   ],
   "source": [
    "taula.shape"
   ]
  },
  {
   "cell_type": "markdown",
   "metadata": {},
   "source": [
    "# Tema 1. Creació variables bàsiques"
   ]
  },
  {
   "cell_type": "code",
   "execution_count": 50,
   "metadata": {},
   "outputs": [],
   "source": [
    "taula['Close1']=taula['Close'].shift(-1)"
   ]
  },
  {
   "cell_type": "code",
   "execution_count": 51,
   "metadata": {},
   "outputs": [],
   "source": [
    "#diferencia de preu respecte al del di seguent\n",
    "taula['PriceDiff'] = taula['Close'].shift(-1)- taula['Close']"
   ]
  },
  {
   "cell_type": "code",
   "execution_count": 52,
   "metadata": {},
   "outputs": [],
   "source": [
    "taula['Return'] = taula['PriceDiff'] /taula['Close']"
   ]
  },
  {
   "cell_type": "code",
   "execution_count": 53,
   "metadata": {},
   "outputs": [],
   "source": [
    "#Create a new column Direction. \n",
    "#The List Comprehension means : if the price difference is larger than 0, denote as 1, otherwise, denote as 0,\n",
    "#for every record in the DataFrame - taula\n",
    "\n",
    "taula['Direction'] = [1 if taula['PriceDiff'].loc[ei] > 0 else 0 for ei in taula.index ]"
   ]
  },
  {
   "cell_type": "code",
   "execution_count": 54,
   "metadata": {},
   "outputs": [
    {
     "data": {
      "text/html": [
       "<div>\n",
       "<style scoped>\n",
       "    .dataframe tbody tr th:only-of-type {\n",
       "        vertical-align: middle;\n",
       "    }\n",
       "\n",
       "    .dataframe tbody tr th {\n",
       "        vertical-align: top;\n",
       "    }\n",
       "\n",
       "    .dataframe thead th {\n",
       "        text-align: right;\n",
       "    }\n",
       "</style>\n",
       "<table border=\"1\" class=\"dataframe\">\n",
       "  <thead>\n",
       "    <tr style=\"text-align: right;\">\n",
       "      <th></th>\n",
       "      <th>Date</th>\n",
       "      <th>Open</th>\n",
       "      <th>High</th>\n",
       "      <th>Low</th>\n",
       "      <th>Close</th>\n",
       "      <th>Adj Close</th>\n",
       "      <th>Volume</th>\n",
       "      <th>Close1</th>\n",
       "      <th>PriceDiff</th>\n",
       "      <th>Return</th>\n",
       "      <th>Direction</th>\n",
       "      <th>ma10</th>\n",
       "      <th>ma50</th>\n",
       "    </tr>\n",
       "  </thead>\n",
       "  <tbody>\n",
       "    <tr>\n",
       "      <th>247</th>\n",
       "      <td>2019-12-17</td>\n",
       "      <td>307.359985</td>\n",
       "      <td>316.799988</td>\n",
       "      <td>306.600006</td>\n",
       "      <td>315.480011</td>\n",
       "      <td>315.480011</td>\n",
       "      <td>10427100</td>\n",
       "      <td>320.799988</td>\n",
       "      <td>5.319977</td>\n",
       "      <td>0.016863</td>\n",
       "      <td>1</td>\n",
       "      <td>302.570999</td>\n",
       "      <td>293.139999</td>\n",
       "    </tr>\n",
       "    <tr>\n",
       "      <th>248</th>\n",
       "      <td>2019-12-18</td>\n",
       "      <td>316.260010</td>\n",
       "      <td>325.359985</td>\n",
       "      <td>315.600006</td>\n",
       "      <td>320.799988</td>\n",
       "      <td>320.799988</td>\n",
       "      <td>11207400</td>\n",
       "      <td>332.220001</td>\n",
       "      <td>11.420013</td>\n",
       "      <td>0.035599</td>\n",
       "      <td>1</td>\n",
       "      <td>304.218997</td>\n",
       "      <td>294.141598</td>\n",
       "    </tr>\n",
       "    <tr>\n",
       "      <th>249</th>\n",
       "      <td>2019-12-19</td>\n",
       "      <td>324.500000</td>\n",
       "      <td>332.829987</td>\n",
       "      <td>324.179993</td>\n",
       "      <td>332.220001</td>\n",
       "      <td>332.220001</td>\n",
       "      <td>9822300</td>\n",
       "      <td>336.899994</td>\n",
       "      <td>4.679993</td>\n",
       "      <td>0.014087</td>\n",
       "      <td>1</td>\n",
       "      <td>307.154999</td>\n",
       "      <td>295.435399</td>\n",
       "    </tr>\n",
       "    <tr>\n",
       "      <th>250</th>\n",
       "      <td>2019-12-20</td>\n",
       "      <td>335.000000</td>\n",
       "      <td>338.000000</td>\n",
       "      <td>330.600006</td>\n",
       "      <td>336.899994</td>\n",
       "      <td>336.899994</td>\n",
       "      <td>9914900</td>\n",
       "      <td>333.100006</td>\n",
       "      <td>-3.799988</td>\n",
       "      <td>-0.011279</td>\n",
       "      <td>0</td>\n",
       "      <td>310.109998</td>\n",
       "      <td>296.563798</td>\n",
       "    </tr>\n",
       "    <tr>\n",
       "      <th>251</th>\n",
       "      <td>2019-12-23</td>\n",
       "      <td>337.760010</td>\n",
       "      <td>337.950012</td>\n",
       "      <td>331.040009</td>\n",
       "      <td>333.100006</td>\n",
       "      <td>333.100006</td>\n",
       "      <td>5130465</td>\n",
       "      <td>NaN</td>\n",
       "      <td>NaN</td>\n",
       "      <td>NaN</td>\n",
       "      <td>0</td>\n",
       "      <td>313.169998</td>\n",
       "      <td>297.567198</td>\n",
       "    </tr>\n",
       "  </tbody>\n",
       "</table>\n",
       "</div>"
      ],
      "text/plain": [
       "           Date        Open        High         Low       Close   Adj Close  \\\n",
       "247  2019-12-17  307.359985  316.799988  306.600006  315.480011  315.480011   \n",
       "248  2019-12-18  316.260010  325.359985  315.600006  320.799988  320.799988   \n",
       "249  2019-12-19  324.500000  332.829987  324.179993  332.220001  332.220001   \n",
       "250  2019-12-20  335.000000  338.000000  330.600006  336.899994  336.899994   \n",
       "251  2019-12-23  337.760010  337.950012  331.040009  333.100006  333.100006   \n",
       "\n",
       "       Volume      Close1  PriceDiff    Return  Direction        ma10  \\\n",
       "247  10427100  320.799988   5.319977  0.016863          1  302.570999   \n",
       "248  11207400  332.220001  11.420013  0.035599          1  304.218997   \n",
       "249   9822300  336.899994   4.679993  0.014087          1  307.154999   \n",
       "250   9914900  333.100006  -3.799988 -0.011279          0  310.109998   \n",
       "251   5130465         NaN        NaN       NaN          0  313.169998   \n",
       "\n",
       "           ma50  \n",
       "247  293.139999  \n",
       "248  294.141598  \n",
       "249  295.435399  \n",
       "250  296.563798  \n",
       "251  297.567198  "
      ]
     },
     "execution_count": 54,
     "metadata": {},
     "output_type": "execute_result"
    }
   ],
   "source": [
    "taula['ma10'] = taula['Close'].rolling(10).mean() #fast signal\n",
    "taula['ma50'] = taula['Close'].rolling(50).mean() #slow signal\n",
    "\n",
    "taula.tail()"
   ]
  },
  {
   "cell_type": "code",
   "execution_count": 55,
   "metadata": {},
   "outputs": [
    {
     "data": {
      "image/png": "[encoded data removed]",
      "text/plain": [
       "<Figure size 432x288 with 1 Axes>"
      ]
     },
     "metadata": {
      "needs_background": "light"
     },
     "output_type": "display_data"
    }
   ],
   "source": [
    "#plot the moving average\n",
    "#plt.figure(figsiz2=(10, 8))\n",
    "taula['ma10'].plot(label='MA10')\n",
    "taula['ma50'].plot(label='MA50')\n",
    "taula['Close'].plot(label='Close')\n",
    "plt.legend()\n",
    "plt.xlabel('Time (days)') \n",
    "plt.show()"
   ]
  },
  {
   "cell_type": "markdown",
   "metadata": {},
   "source": [
    "# Tema 1. Estratègia bàsica d'exemple: Si MA10 > MA50 --> Buy and hold 1 share"
   ]
  },
  {
   "cell_type": "code",
   "execution_count": 56,
   "metadata": {},
   "outputs": [],
   "source": [
    "taula['shares']=[1 if taula.loc[ei,'ma10'] > taula.loc[ei,'ma50'] else 0\n",
    "              for ei in taula.index]"
   ]
  },
  {
   "cell_type": "code",
   "execution_count": 57,
   "metadata": {},
   "outputs": [
    {
     "data": {
      "text/plain": [
       "Text(0, 0.5, 'Profit (resultat diari) ($)')"
      ]
     },
     "execution_count": 57,
     "metadata": {},
     "output_type": "execute_result"
    },
    {
     "data": {
      "image/png": "[encoded data removed]",
      "text/plain": [
       "<Figure size 432x288 with 1 Axes>"
      ]
     },
     "metadata": {
      "needs_background": "light"
     },
     "output_type": "display_data"
    }
   ],
   "source": [
    "taula['profit']=[taula.loc[ei,'Close1'] - taula.loc[ei,'Close'] \n",
    "                 if taula.loc[ei, 'shares']==1 else 0\n",
    "                 for ei in taula.index]\n",
    "\n",
    "taula['profit'].plot()\n",
    "plt.axhline(y=0,color='red')\n",
    "plt.xlabel('Time (days)') \n",
    "plt.ylabel('Profit (resultat diari) ($)') "
   ]
  },
  {
   "cell_type": "code",
   "execution_count": 58,
   "metadata": {},
   "outputs": [],
   "source": [
    "taula['wealth']=taula['profit'].cumsum()"
   ]
  },
  {
   "cell_type": "code",
   "execution_count": 59,
   "metadata": {},
   "outputs": [
    {
     "data": {
      "text/html": [
       "<div>\n",
       "<style scoped>\n",
       "    .dataframe tbody tr th:only-of-type {\n",
       "        vertical-align: middle;\n",
       "    }\n",
       "\n",
       "    .dataframe tbody tr th {\n",
       "        vertical-align: top;\n",
       "    }\n",
       "\n",
       "    .dataframe thead th {\n",
       "        text-align: right;\n",
       "    }\n",
       "</style>\n",
       "<table border=\"1\" class=\"dataframe\">\n",
       "  <thead>\n",
       "    <tr style=\"text-align: right;\">\n",
       "      <th></th>\n",
       "      <th>Date</th>\n",
       "      <th>Open</th>\n",
       "      <th>High</th>\n",
       "      <th>Low</th>\n",
       "      <th>Close</th>\n",
       "      <th>Adj Close</th>\n",
       "      <th>Volume</th>\n",
       "      <th>Close1</th>\n",
       "      <th>PriceDiff</th>\n",
       "      <th>Return</th>\n",
       "      <th>Direction</th>\n",
       "      <th>ma10</th>\n",
       "      <th>ma50</th>\n",
       "      <th>shares</th>\n",
       "      <th>profit</th>\n",
       "      <th>wealth</th>\n",
       "    </tr>\n",
       "  </thead>\n",
       "  <tbody>\n",
       "    <tr>\n",
       "      <th>247</th>\n",
       "      <td>2019-12-17</td>\n",
       "      <td>307.359985</td>\n",
       "      <td>316.799988</td>\n",
       "      <td>306.600006</td>\n",
       "      <td>315.480011</td>\n",
       "      <td>315.480011</td>\n",
       "      <td>10427100</td>\n",
       "      <td>320.799988</td>\n",
       "      <td>5.319977</td>\n",
       "      <td>0.016863</td>\n",
       "      <td>1</td>\n",
       "      <td>302.570999</td>\n",
       "      <td>293.139999</td>\n",
       "      <td>1</td>\n",
       "      <td>5.319977</td>\n",
       "      <td>-19.920013</td>\n",
       "    </tr>\n",
       "    <tr>\n",
       "      <th>248</th>\n",
       "      <td>2019-12-18</td>\n",
       "      <td>316.260010</td>\n",
       "      <td>325.359985</td>\n",
       "      <td>315.600006</td>\n",
       "      <td>320.799988</td>\n",
       "      <td>320.799988</td>\n",
       "      <td>11207400</td>\n",
       "      <td>332.220001</td>\n",
       "      <td>11.420013</td>\n",
       "      <td>0.035599</td>\n",
       "      <td>1</td>\n",
       "      <td>304.218997</td>\n",
       "      <td>294.141598</td>\n",
       "      <td>1</td>\n",
       "      <td>11.420013</td>\n",
       "      <td>-8.500000</td>\n",
       "    </tr>\n",
       "    <tr>\n",
       "      <th>249</th>\n",
       "      <td>2019-12-19</td>\n",
       "      <td>324.500000</td>\n",
       "      <td>332.829987</td>\n",
       "      <td>324.179993</td>\n",
       "      <td>332.220001</td>\n",
       "      <td>332.220001</td>\n",
       "      <td>9822300</td>\n",
       "      <td>336.899994</td>\n",
       "      <td>4.679993</td>\n",
       "      <td>0.014087</td>\n",
       "      <td>1</td>\n",
       "      <td>307.154999</td>\n",
       "      <td>295.435399</td>\n",
       "      <td>1</td>\n",
       "      <td>4.679993</td>\n",
       "      <td>-3.820007</td>\n",
       "    </tr>\n",
       "    <tr>\n",
       "      <th>250</th>\n",
       "      <td>2019-12-20</td>\n",
       "      <td>335.000000</td>\n",
       "      <td>338.000000</td>\n",
       "      <td>330.600006</td>\n",
       "      <td>336.899994</td>\n",
       "      <td>336.899994</td>\n",
       "      <td>9914900</td>\n",
       "      <td>333.100006</td>\n",
       "      <td>-3.799988</td>\n",
       "      <td>-0.011279</td>\n",
       "      <td>0</td>\n",
       "      <td>310.109998</td>\n",
       "      <td>296.563798</td>\n",
       "      <td>1</td>\n",
       "      <td>-3.799988</td>\n",
       "      <td>-7.619995</td>\n",
       "    </tr>\n",
       "    <tr>\n",
       "      <th>251</th>\n",
       "      <td>2019-12-23</td>\n",
       "      <td>337.760010</td>\n",
       "      <td>337.950012</td>\n",
       "      <td>331.040009</td>\n",
       "      <td>333.100006</td>\n",
       "      <td>333.100006</td>\n",
       "      <td>5130465</td>\n",
       "      <td>NaN</td>\n",
       "      <td>NaN</td>\n",
       "      <td>NaN</td>\n",
       "      <td>0</td>\n",
       "      <td>313.169998</td>\n",
       "      <td>297.567198</td>\n",
       "      <td>1</td>\n",
       "      <td>NaN</td>\n",
       "      <td>NaN</td>\n",
       "    </tr>\n",
       "  </tbody>\n",
       "</table>\n",
       "</div>"
      ],
      "text/plain": [
       "           Date        Open        High         Low       Close   Adj Close  \\\n",
       "247  2019-12-17  307.359985  316.799988  306.600006  315.480011  315.480011   \n",
       "248  2019-12-18  316.260010  325.359985  315.600006  320.799988  320.799988   \n",
       "249  2019-12-19  324.500000  332.829987  324.179993  332.220001  332.220001   \n",
       "250  2019-12-20  335.000000  338.000000  330.600006  336.899994  336.899994   \n",
       "251  2019-12-23  337.760010  337.950012  331.040009  333.100006  333.100006   \n",
       "\n",
       "       Volume      Close1  PriceDiff    Return  Direction        ma10  \\\n",
       "247  10427100  320.799988   5.319977  0.016863          1  302.570999   \n",
       "248  11207400  332.220001  11.420013  0.035599          1  304.218997   \n",
       "249   9822300  336.899994   4.679993  0.014087          1  307.154999   \n",
       "250   9914900  333.100006  -3.799988 -0.011279          0  310.109998   \n",
       "251   5130465         NaN        NaN       NaN          0  313.169998   \n",
       "\n",
       "           ma50  shares     profit     wealth  \n",
       "247  293.139999       1   5.319977 -19.920013  \n",
       "248  294.141598       1  11.420013  -8.500000  \n",
       "249  295.435399       1   4.679993  -3.820007  \n",
       "250  296.563798       1  -3.799988  -7.619995  \n",
       "251  297.567198       1        NaN        NaN  "
      ]
     },
     "execution_count": 59,
     "metadata": {},
     "output_type": "execute_result"
    }
   ],
   "source": [
    "taula.tail()"
   ]
  },
  {
   "cell_type": "code",
   "execution_count": 60,
   "metadata": {},
   "outputs": [
    {
     "data": {
      "text/plain": [
       "Text(0, 0.5, 'Wealth (Resultats) ($)')"
      ]
     },
     "execution_count": 60,
     "metadata": {},
     "output_type": "execute_result"
    },
    {
     "data": {
      "image/png": "[encoded data removed]",
      "text/plain": [
       "<Figure size 432x288 with 1 Axes>"
      ]
     },
     "metadata": {
      "needs_background": "light"
     },
     "output_type": "display_data"
    }
   ],
   "source": [
    "taula['wealth'].plot()\n",
    "plt.axhline(y=0,color='red')\n",
    "plt.xlabel('Time (days)') \n",
    "plt.ylabel('Wealth (Resultats) ($)') "
   ]
  },
  {
   "cell_type": "markdown",
   "metadata": {},
   "source": [
    "# Tema 2.2 Frequency, Relative Frequency and Distributions\n",
    "\n",
    "#Es pren com a exemple joc de llançament de 2 daus (Discrete Random Variable)\n",
    "#Al següent tema s'apliquen els nous conceptes a la borsa (Continuous Random Variable)"
   ]
  },
  {
   "cell_type": "code",
   "execution_count": 61,
   "metadata": {},
   "outputs": [
    {
     "data": {
      "text/plain": [
       "[6, 7, 9, 6, 6, 7, 5, 10, 6, 8]"
      ]
     },
     "execution_count": 61,
     "metadata": {},
     "output_type": "execute_result"
    }
   ],
   "source": [
    "# To recall, this is the code to mimic the roll dice game for 50 times\n",
    "\n",
    "die = pd.DataFrame([1, 2, 3, 4, 5, 6])\n",
    "trial = 5000 #numero de cops que tirem els daus\n",
    "results = [die.sample(2, replace=True).sum().loc[0] for i in range(trial)] \n",
    "#tirar els daus 50 vegades i sumar cada cop el valor dels 2 daus\n",
    "results[:10] #mostrar 10 resultats"
   ]
  },
  {
   "cell_type": "code",
   "execution_count": 62,
   "metadata": {},
   "outputs": [
    {
     "name": "stdout",
     "output_type": "stream",
     "text": [
      "2     162\n",
      "3     276\n",
      "4     423\n",
      "5     531\n",
      "6     691\n",
      "7     777\n",
      "8     713\n",
      "9     563\n",
      "10    439\n",
      "11    290\n",
      "12    135\n",
      "Name: 0, dtype: int64\n"
     ]
    }
   ],
   "source": [
    "# FREQUENCY:\n",
    "# This is the code for summarizing the results of sum of faces by frequency\n",
    "\n",
    "freq = pd.DataFrame(results)[0].value_counts() \n",
    "#value_counts de pandas genera una taula amb 2 variables, els valors possibles que a la vegada són l'index de la taula i la freqüència de cada cas.\n",
    "sort_freq = freq.sort_index() #generem taula ordenada per l'index, és a dir, pels valors possibles.\n",
    "print(sort_freq)"
   ]
  },
  {
   "cell_type": "markdown",
   "metadata": {},
   "source": [
    "# Frequency of a discrete random variable"
   ]
  },
  {
   "cell_type": "code",
   "execution_count": 63,
   "metadata": {},
   "outputs": [
    {
     "data": {
      "text/plain": [
       "<matplotlib.axes._subplots.AxesSubplot at 0x117cbda30>"
      ]
     },
     "execution_count": 63,
     "metadata": {},
     "output_type": "execute_result"
    },
    {
     "data": {
      "image/png": "[encoded data removed]",
      "text/plain": [
       "<Figure size 1080x576 with 1 Axes>"
      ]
     },
     "metadata": {
      "needs_background": "light"
     },
     "output_type": "display_data"
    }
   ],
   "source": [
    "#plot the bar chart base on the result\n",
    "\n",
    "sort_freq.plot(kind='bar', color='blue', figsize=(15, 8))"
   ]
  },
  {
   "cell_type": "code",
   "execution_count": 64,
   "metadata": {},
   "outputs": [
    {
     "data": {
      "text/plain": [
       "<matplotlib.axes._subplots.AxesSubplot at 0x117dcf700>"
      ]
     },
     "execution_count": 64,
     "metadata": {},
     "output_type": "execute_result"
    },
    {
     "data": {
      "image/png": "[encoded data removed]",
      "text/plain": [
       "<Figure size 1080x576 with 1 Axes>"
      ]
     },
     "metadata": {
      "needs_background": "light"
     },
     "output_type": "display_data"
    }
   ],
   "source": [
    "# RELATIVE FREQUENCY\n",
    "# Using relative frequency, we can rescale the frequency so that we can compare results from different number of trials\n",
    "relative_freq = sort_freq/trial\n",
    "relative_freq.plot(kind='bar', color='blue', figsize=(15, 8))\n",
    "#pintem la frequencia relativa si tirem els daus 5.000 cops"
   ]
  },
  {
   "cell_type": "markdown",
   "metadata": {},
   "source": [
    "# Distribution of a Discrete Random Variable"
   ]
  },
  {
   "cell_type": "code",
   "execution_count": 65,
   "metadata": {},
   "outputs": [
    {
     "data": {
      "text/html": [
       "<div>\n",
       "<style scoped>\n",
       "    .dataframe tbody tr th:only-of-type {\n",
       "        vertical-align: middle;\n",
       "    }\n",
       "\n",
       "    .dataframe tbody tr th {\n",
       "        vertical-align: top;\n",
       "    }\n",
       "\n",
       "    .dataframe thead th {\n",
       "        text-align: right;\n",
       "    }\n",
       "</style>\n",
       "<table border=\"1\" class=\"dataframe\">\n",
       "  <thead>\n",
       "    <tr style=\"text-align: right;\">\n",
       "      <th></th>\n",
       "      <th>Prob</th>\n",
       "    </tr>\n",
       "  </thead>\n",
       "  <tbody>\n",
       "    <tr>\n",
       "      <th>2</th>\n",
       "      <td>0.027778</td>\n",
       "    </tr>\n",
       "    <tr>\n",
       "      <th>3</th>\n",
       "      <td>0.055556</td>\n",
       "    </tr>\n",
       "    <tr>\n",
       "      <th>4</th>\n",
       "      <td>0.083333</td>\n",
       "    </tr>\n",
       "    <tr>\n",
       "      <th>5</th>\n",
       "      <td>0.111111</td>\n",
       "    </tr>\n",
       "    <tr>\n",
       "      <th>6</th>\n",
       "      <td>0.138889</td>\n",
       "    </tr>\n",
       "    <tr>\n",
       "      <th>7</th>\n",
       "      <td>0.166667</td>\n",
       "    </tr>\n",
       "    <tr>\n",
       "      <th>8</th>\n",
       "      <td>0.138889</td>\n",
       "    </tr>\n",
       "    <tr>\n",
       "      <th>9</th>\n",
       "      <td>0.111111</td>\n",
       "    </tr>\n",
       "    <tr>\n",
       "      <th>10</th>\n",
       "      <td>0.083333</td>\n",
       "    </tr>\n",
       "    <tr>\n",
       "      <th>11</th>\n",
       "      <td>0.055556</td>\n",
       "    </tr>\n",
       "    <tr>\n",
       "      <th>12</th>\n",
       "      <td>0.027778</td>\n",
       "    </tr>\n",
       "  </tbody>\n",
       "</table>\n",
       "</div>"
      ],
      "text/plain": [
       "        Prob\n",
       "2   0.027778\n",
       "3   0.055556\n",
       "4   0.083333\n",
       "5   0.111111\n",
       "6   0.138889\n",
       "7   0.166667\n",
       "8   0.138889\n",
       "9   0.111111\n",
       "10  0.083333\n",
       "11  0.055556\n",
       "12  0.027778"
      ]
     },
     "execution_count": 65,
     "metadata": {},
     "output_type": "execute_result"
    }
   ],
   "source": [
    "# DISTRIBUTION OF A RANDOM VARIABLE\n",
    "# Taula amb 2 variables: 1. Valors possibles de la variable, 2. Probabilitat de cada valor.\n",
    "# És la manera de veure quina freqüencia relativa tindríem si tirem els daus infinits cops.\n",
    "# X= 2      P(2)=1*(1/6)**2\n",
    "# X= 3      P(2)=2*(1/6)**2\n",
    "# X= 4      P(2)=3*(1/6)**2\n",
    "# X= 5      P(2)=4*(1/6)**2\n",
    "# X= 6      P(2)=5*(1/6)**2\n",
    "# X= 7      P(2)=6*(1/6)**2\n",
    "# X= 8      P(2)=5*(1/6)**2\n",
    "# X= 9      P(2)=4*(1/6)**2\n",
    "# X= 10     P(2)=3*(1/6)**2\n",
    "# X= 11     P(2)=2*(1/6)**2\n",
    "# X= 12     P(2)=1*(1/6)**2\n",
    "\n",
    "# assume that we have fair dice, which means all faces will be shown with equal probability\n",
    "# then we can say we know the 'Distribtuion' of the random variable - sum_of_dice\n",
    "\n",
    "X_distri = pd.DataFrame(index=[2, 3, 4, 5, 6, 7, 8, 9, 10, 11, 12])\n",
    "X_distri['Prob'] = [1, 2, 3, 4, 5, 6, 5, 4, 3, 2, 1]\n",
    "X_distri['Prob'] = X_distri['Prob']/36\n",
    "X_distri"
   ]
  },
  {
   "cell_type": "code",
   "execution_count": 66,
   "metadata": {},
   "outputs": [
    {
     "name": "stdout",
     "output_type": "stream",
     "text": [
      "6.999999999999998 5.833333333333333\n"
     ]
    }
   ],
   "source": [
    "# MEAN (OR EXPECTATION) OF A DISTRIBUTION: SUM(i)(p(i)*x(i))\n",
    "    # Mean: Mitja de tots els valors de sortida ponderat per les probabilitats\n",
    "# VARIANCE OF A DISTRIBUTION: SUM(I)((X(i)-mean)**2)*p(i)\n",
    "    # Variance: Descriu la variació dels valors de sortida\n",
    "\n",
    "mean = pd.Series(X_distri.index * X_distri['Prob']).sum()\n",
    "var = pd.Series(((X_distri.index - mean)**2)*X_distri['Prob']).sum()\n",
    "#Output the mean and variance of the distribution. Mean and variance can be used to describe a distribution\n",
    "print(mean, var)"
   ]
  },
  {
   "cell_type": "markdown",
   "metadata": {},
   "source": [
    "# Tema 2.3 Models de Distribució\n",
    "\n",
    "# PDF: Probability Density Function\n",
    "\n",
    "# CDF: Cumulative Distribution Function\n",
    "\n",
    "#Per a variables continues no sabem la mitja ni la variància, pel que cal pintar funcions tipus PDF i CDF per a poder analitzar."
   ]
  },
  {
   "cell_type": "code",
   "execution_count": 68,
   "metadata": {},
   "outputs": [
    {
     "data": {
      "text/plain": [
       "<matplotlib.axes._subplots.AxesSubplot at 0x117da22e0>"
      ]
     },
     "execution_count": 68,
     "metadata": {},
     "output_type": "execute_result"
    },
    {
     "data": {
      "image/png": "[encoded data removed]",
      "text/plain": [
       "<Figure size 432x288 with 1 Axes>"
      ]
     },
     "metadata": {
      "needs_background": "light"
     },
     "output_type": "display_data"
    }
   ],
   "source": [
    "#log daily return\n",
    "taula['LogReturn']= np.log(taula['Close'].shift(-1)) - np.log(taula['Close'])\n",
    "taula['LogReturn'].hist(bins=50) #pintem histograma, es similar a una normal distribution"
   ]
  },
  {
   "cell_type": "code",
   "execution_count": 69,
   "metadata": {},
   "outputs": [],
   "source": [
    "from scipy.stats import norm"
   ]
  },
  {
   "cell_type": "code",
   "execution_count": 70,
   "metadata": {},
   "outputs": [],
   "source": [
    "#Density functions of a random variable are only related to their mean and variance\n",
    "#EXEMPLE amb variable continua amb valors entre -4 i 4.\n",
    "density=pd.DataFrame()\n",
    "density['x']=np.arange(-4,4,0.001)\n",
    "density['pdf']=norm.pdf(density['x'],0,1)\n",
    "density['cdf']=norm.cdf(density['x'],0,1)"
   ]
  },
  {
   "cell_type": "code",
   "execution_count": 71,
   "metadata": {},
   "outputs": [
    {
     "data": {
      "text/plain": [
       "[<matplotlib.lines.Line2D at 0x1174843a0>]"
      ]
     },
     "execution_count": 71,
     "metadata": {},
     "output_type": "execute_result"
    },
    {
     "data": {
      "image/png": "[encoded data removed]",
      "text/plain": [
       "<Figure size 432x288 with 1 Axes>"
      ]
     },
     "metadata": {
      "needs_background": "light"
     },
     "output_type": "display_data"
    }
   ],
   "source": [
    "plt.plot(density['x'],density['pdf'])"
   ]
  },
  {
   "cell_type": "code",
   "execution_count": 72,
   "metadata": {},
   "outputs": [
    {
     "data": {
      "text/plain": [
       "[<matplotlib.lines.Line2D at 0x1179a0f40>]"
      ]
     },
     "execution_count": 72,
     "metadata": {},
     "output_type": "execute_result"
    },
    {
     "data": {
      "image/png": "[encoded data removed]",
      "text/plain": [
       "<Figure size 432x288 with 1 Axes>"
      ]
     },
     "metadata": {
      "needs_background": "light"
     },
     "output_type": "display_data"
    }
   ],
   "source": [
    "plt.plot(density['x'],density['cdf'])"
   ]
  },
  {
   "cell_type": "code",
   "execution_count": 73,
   "metadata": {},
   "outputs": [
    {
     "name": "stdout",
     "output_type": "stream",
     "text": [
      "0.0014089027032919868 0.02256957088750536\n"
     ]
    }
   ],
   "source": [
    "#Aplicació a la borsa. mu i sigma no són com mean i variance per a les variables discretes, però s'assembla.\n",
    "mu=taula['LogReturn'].mean() #mean\n",
    "sigma=taula['LogReturn'].std(ddof=1) #standard deviation\n",
    "print(mu, sigma)"
   ]
  },
  {
   "cell_type": "code",
   "execution_count": 75,
   "metadata": {},
   "outputs": [
    {
     "data": {
      "image/png": "[encoded data removed]",
      "text/plain": [
       "<Figure size 1080x576 with 1 Axes>"
      ]
     },
     "metadata": {
      "needs_background": "light"
     },
     "output_type": "display_data"
    }
   ],
   "source": [
    "denTaula=pd.DataFrame()\n",
    "denTaula['x']= np.arange(-0.1, 0.1, 0.001)\n",
    "denTaula['pdf']=norm.pdf(denTaula['x'], mu, sigma)\n",
    "\n",
    "# Plot a histogram to show the distribution of log return of Netflix or whatever stock. \n",
    "# You can see LOG RETURN it is very close to a NORMAL DISTRIBUTION\n",
    "\n",
    "taula['LogReturn'].hist(bins=50, figsize=(15, 8))\n",
    "plt.plot(denTaula['x'], denTaula['pdf'], color='red')\n",
    "plt.show()"
   ]
  },
  {
   "cell_type": "markdown",
   "metadata": {},
   "source": [
    "# Càlcul probabilitat retorn diari < -5%"
   ]
  },
  {
   "cell_type": "code",
   "execution_count": 77,
   "metadata": {},
   "outputs": [
    {
     "ename": "ValueError",
     "evalue": "operands could not be broadcast together with shapes (901,) (1501,) ",
     "output_type": "error",
     "traceback": [
      "\u001b[0;31m---------------------------------------------------------------------------\u001b[0m",
      "\u001b[0;31mValueError\u001b[0m                                Traceback (most recent call last)",
      "\u001b[0;32m<ipython-input-77-b05092ded45d>\u001b[0m in \u001b[0;36m<module>\u001b[0;34m\u001b[0m\n\u001b[1;32m      2\u001b[0m \u001b[0mplt\u001b[0m\u001b[0;34m.\u001b[0m\u001b[0mylim\u001b[0m\u001b[0;34m(\u001b[0m\u001b[0;36m0\u001b[0m\u001b[0;34m,\u001b[0m\u001b[0;36m25\u001b[0m\u001b[0;34m)\u001b[0m\u001b[0;34m\u001b[0m\u001b[0;34m\u001b[0m\u001b[0m\n\u001b[1;32m      3\u001b[0m \u001b[0mplt\u001b[0m\u001b[0;34m.\u001b[0m\u001b[0mplot\u001b[0m\u001b[0;34m(\u001b[0m\u001b[0mdenTaula\u001b[0m\u001b[0;34m[\u001b[0m\u001b[0;34m'x'\u001b[0m\u001b[0;34m]\u001b[0m\u001b[0;34m,\u001b[0m \u001b[0mdenTaula\u001b[0m\u001b[0;34m[\u001b[0m\u001b[0;34m'pdf'\u001b[0m\u001b[0;34m]\u001b[0m\u001b[0;34m)\u001b[0m\u001b[0;34m\u001b[0m\u001b[0;34m\u001b[0m\u001b[0m\n\u001b[0;32m----> 4\u001b[0;31m plt.fill_between(x=np.arange(-0.1, -0.01, 0.0001), \n\u001b[0m\u001b[1;32m      5\u001b[0m                 \u001b[0my2\u001b[0m\u001b[0;34m=\u001b[0m\u001b[0;36m0\u001b[0m\u001b[0;34m,\u001b[0m\u001b[0;34m\u001b[0m\u001b[0;34m\u001b[0m\u001b[0m\n\u001b[1;32m      6\u001b[0m                 \u001b[0my1\u001b[0m\u001b[0;34m=\u001b[0m\u001b[0mnorm\u001b[0m\u001b[0;34m.\u001b[0m\u001b[0mpdf\u001b[0m\u001b[0;34m(\u001b[0m\u001b[0mnp\u001b[0m\u001b[0;34m.\u001b[0m\u001b[0marange\u001b[0m\u001b[0;34m(\u001b[0m\u001b[0;34m-\u001b[0m\u001b[0;36m0.1\u001b[0m\u001b[0;34m,\u001b[0m \u001b[0;36m0.05\u001b[0m\u001b[0;34m,\u001b[0m \u001b[0;36m0.0001\u001b[0m\u001b[0;34m)\u001b[0m\u001b[0;34m,\u001b[0m \u001b[0mmu\u001b[0m\u001b[0;34m,\u001b[0m \u001b[0msigma\u001b[0m\u001b[0;34m)\u001b[0m\u001b[0;34m,\u001b[0m\u001b[0;34m\u001b[0m\u001b[0;34m\u001b[0m\u001b[0m\n",
      "\u001b[0;32m/Library/Frameworks/Python.framework/Versions/3.8/lib/python3.8/site-packages/matplotlib/pyplot.py\u001b[0m in \u001b[0;36mfill_between\u001b[0;34m(x, y1, y2, where, interpolate, step, data, **kwargs)\u001b[0m\n\u001b[1;32m   2581\u001b[0m         \u001b[0mx\u001b[0m\u001b[0;34m,\u001b[0m \u001b[0my1\u001b[0m\u001b[0;34m,\u001b[0m \u001b[0my2\u001b[0m\u001b[0;34m=\u001b[0m\u001b[0;36m0\u001b[0m\u001b[0;34m,\u001b[0m \u001b[0mwhere\u001b[0m\u001b[0;34m=\u001b[0m\u001b[0;32mNone\u001b[0m\u001b[0;34m,\u001b[0m \u001b[0minterpolate\u001b[0m\u001b[0;34m=\u001b[0m\u001b[0;32mFalse\u001b[0m\u001b[0;34m,\u001b[0m \u001b[0mstep\u001b[0m\u001b[0;34m=\u001b[0m\u001b[0;32mNone\u001b[0m\u001b[0;34m,\u001b[0m \u001b[0;34m*\u001b[0m\u001b[0;34m,\u001b[0m\u001b[0;34m\u001b[0m\u001b[0;34m\u001b[0m\u001b[0m\n\u001b[1;32m   2582\u001b[0m         data=None, **kwargs):\n\u001b[0;32m-> 2583\u001b[0;31m     return gca().fill_between(\n\u001b[0m\u001b[1;32m   2584\u001b[0m         \u001b[0mx\u001b[0m\u001b[0;34m,\u001b[0m \u001b[0my1\u001b[0m\u001b[0;34m,\u001b[0m \u001b[0my2\u001b[0m\u001b[0;34m=\u001b[0m\u001b[0my2\u001b[0m\u001b[0;34m,\u001b[0m \u001b[0mwhere\u001b[0m\u001b[0;34m=\u001b[0m\u001b[0mwhere\u001b[0m\u001b[0;34m,\u001b[0m \u001b[0minterpolate\u001b[0m\u001b[0;34m=\u001b[0m\u001b[0minterpolate\u001b[0m\u001b[0;34m,\u001b[0m \u001b[0mstep\u001b[0m\u001b[0;34m=\u001b[0m\u001b[0mstep\u001b[0m\u001b[0;34m,\u001b[0m\u001b[0;34m\u001b[0m\u001b[0;34m\u001b[0m\u001b[0m\n\u001b[1;32m   2585\u001b[0m         **({\"data\": data} if data is not None else {}), **kwargs)\n",
      "\u001b[0;32m/Library/Frameworks/Python.framework/Versions/3.8/lib/python3.8/site-packages/matplotlib/__init__.py\u001b[0m in \u001b[0;36minner\u001b[0;34m(ax, data, *args, **kwargs)\u001b[0m\n\u001b[1;32m   1597\u001b[0m     \u001b[0;32mdef\u001b[0m \u001b[0minner\u001b[0m\u001b[0;34m(\u001b[0m\u001b[0max\u001b[0m\u001b[0;34m,\u001b[0m \u001b[0;34m*\u001b[0m\u001b[0margs\u001b[0m\u001b[0;34m,\u001b[0m \u001b[0mdata\u001b[0m\u001b[0;34m=\u001b[0m\u001b[0;32mNone\u001b[0m\u001b[0;34m,\u001b[0m \u001b[0;34m**\u001b[0m\u001b[0mkwargs\u001b[0m\u001b[0;34m)\u001b[0m\u001b[0;34m:\u001b[0m\u001b[0;34m\u001b[0m\u001b[0;34m\u001b[0m\u001b[0m\n\u001b[1;32m   1598\u001b[0m         \u001b[0;32mif\u001b[0m \u001b[0mdata\u001b[0m \u001b[0;32mis\u001b[0m \u001b[0;32mNone\u001b[0m\u001b[0;34m:\u001b[0m\u001b[0;34m\u001b[0m\u001b[0;34m\u001b[0m\u001b[0m\n\u001b[0;32m-> 1599\u001b[0;31m             \u001b[0;32mreturn\u001b[0m \u001b[0mfunc\u001b[0m\u001b[0;34m(\u001b[0m\u001b[0max\u001b[0m\u001b[0;34m,\u001b[0m \u001b[0;34m*\u001b[0m\u001b[0mmap\u001b[0m\u001b[0;34m(\u001b[0m\u001b[0msanitize_sequence\u001b[0m\u001b[0;34m,\u001b[0m \u001b[0margs\u001b[0m\u001b[0;34m)\u001b[0m\u001b[0;34m,\u001b[0m \u001b[0;34m**\u001b[0m\u001b[0mkwargs\u001b[0m\u001b[0;34m)\u001b[0m\u001b[0;34m\u001b[0m\u001b[0;34m\u001b[0m\u001b[0m\n\u001b[0m\u001b[1;32m   1600\u001b[0m \u001b[0;34m\u001b[0m\u001b[0m\n\u001b[1;32m   1601\u001b[0m         \u001b[0mbound\u001b[0m \u001b[0;34m=\u001b[0m \u001b[0mnew_sig\u001b[0m\u001b[0;34m.\u001b[0m\u001b[0mbind\u001b[0m\u001b[0;34m(\u001b[0m\u001b[0max\u001b[0m\u001b[0;34m,\u001b[0m \u001b[0;34m*\u001b[0m\u001b[0margs\u001b[0m\u001b[0;34m,\u001b[0m \u001b[0;34m**\u001b[0m\u001b[0mkwargs\u001b[0m\u001b[0;34m)\u001b[0m\u001b[0;34m\u001b[0m\u001b[0;34m\u001b[0m\u001b[0m\n",
      "\u001b[0;32m/Library/Frameworks/Python.framework/Versions/3.8/lib/python3.8/site-packages/matplotlib/axes/_axes.py\u001b[0m in \u001b[0;36mfill_between\u001b[0;34m(self, x, y1, y2, where, interpolate, step, **kwargs)\u001b[0m\n\u001b[1;32m   5241\u001b[0m         \u001b[0;32mif\u001b[0m \u001b[0mwhere\u001b[0m \u001b[0;32mis\u001b[0m \u001b[0;32mNone\u001b[0m\u001b[0;34m:\u001b[0m\u001b[0;34m\u001b[0m\u001b[0;34m\u001b[0m\u001b[0m\n\u001b[1;32m   5242\u001b[0m             \u001b[0mwhere\u001b[0m \u001b[0;34m=\u001b[0m \u001b[0;32mTrue\u001b[0m\u001b[0;34m\u001b[0m\u001b[0;34m\u001b[0m\u001b[0m\n\u001b[0;32m-> 5243\u001b[0;31m         where = where & ~functools.reduce(np.logical_or,\n\u001b[0m\u001b[1;32m   5244\u001b[0m                                           map(np.ma.getmask, [x, y1, y2]))\n\u001b[1;32m   5245\u001b[0m \u001b[0;34m\u001b[0m\u001b[0m\n",
      "\u001b[0;31mValueError\u001b[0m: operands could not be broadcast together with shapes (901,) (1501,) "
     ]
    },
    {
     "data": {
      "image/png": "[encoded data removed]",
      "text/plain": [
       "<Figure size 432x288 with 1 Axes>"
      ]
     },
     "metadata": {
      "needs_background": "light"
     },
     "output_type": "display_data"
    }
   ],
   "source": [
    "#pintar de rosa probabilitats que el daily return < -5%\n",
    "#No va, revisar\n",
    "plt.ylim(0,25)\n",
    "plt.plot(denTaula['x'], denTaula['pdf'])\n",
    "plt.fill_between(x=np.arange(-0.1, -0.01, 0.0001), \n",
    "                y2=0,\n",
    "                y1=norm.pdf(np.arange(-0.1, 0.05, 0.0001), mu, sigma),\n",
    "                facecolor='pink',\n",
    "                alpha= 0.5)"
   ]
  },
  {
   "cell_type": "code",
   "execution_count": 78,
   "metadata": {},
   "outputs": [
    {
     "name": "stdout",
     "output_type": "stream",
     "text": [
      "The probability of a daily return < -5% is:  0.011369335144007396\n"
     ]
    }
   ],
   "source": [
    "#Calcular probabilitat que el daily return sigui inferior a -5%\n",
    "prob_return1=norm.cdf(-0.05, mu, sigma)\n",
    "print('The probability of a daily return < -5% is: ', prob_return1)"
   ]
  },
  {
   "cell_type": "markdown",
   "metadata": {},
   "source": [
    "# Càlcul probabilitat caure un 40% el valor durant 1 any"
   ]
  },
  {
   "cell_type": "code",
   "execution_count": 85,
   "metadata": {},
   "outputs": [
    {
     "name": "stdout",
     "output_type": "stream",
     "text": [
      "0.3099585947242371 0.33476083494063114\n",
      "The probability of dropping > 40% in 220 days is:  0.016969592987112207\n"
     ]
    }
   ],
   "source": [
    "#Necessitem calcular la mitja (mean) i la desviació estàndard durant un any (standard deviation of a yearly return).\n",
    "#Suposem que els daily returns són independents.\n",
    "#Això implica que la variance d'un any és la suma de les variance de tots els dies de l'anu (220 dies). I el mateix per la mean.\n",
    "mu220=mu*220\n",
    "sigma220=220**0.5*sigma #APROFUNDIR SOBRE AQUEST PUNT, NO ENTENC LA FORMULA.\n",
    "print(mu220, sigma220)\n",
    "print('The probability of dropping > 40% in 220 days is: ', norm.cdf(-0.4, mu220, sigma220))"
   ]
  },
  {
   "cell_type": "markdown",
   "metadata": {},
   "source": [
    "# Normal distribution quantiles\n",
    "# PPF: Percent Point Function"
   ]
  },
  {
   "cell_type": "code",
   "execution_count": 86,
   "metadata": {},
   "outputs": [
    {
     "data": {
      "text/plain": [
       "-0.035714737829759584"
      ]
     },
     "execution_count": 86,
     "metadata": {},
     "output_type": "execute_result"
    }
   ],
   "source": [
    "# S'obté usant norm.ppf\n",
    "# VaR: Value of Risk: it estimates how much a set of investments might lose with a given probability.\n",
    "# Exemple: 5% of quantile daily return is called 95% VaR or VaR at the level of 95%.\n",
    "norm.ppf(0.05, mu, sigma)"
   ]
  },
  {
   "cell_type": "code",
   "execution_count": null,
   "metadata": {},
   "outputs": [],
   "source": [
    "#vol dir que hi ha un 5% de probabilitat que el daily return sigui < -3%.\n",
    "\n",
    "# A la vida real els Fatter tails (valors extrems) són més típics del que diu una distribució normal.\n"
   ]
  },
  {
   "cell_type": "markdown",
   "metadata": {},
   "source": [
    "# Tema 3. Inferencial Stastistics\n",
    "\n",
    "#Inferential statistics use a random sample of data taken from a population to describe and make inferences about the population. Inferential statistics are valuable when examination of each member of an entire population is not convenient or possible. \n",
    "\n",
    "#The other main branch of statistics is descriptive statistics. For more information on descriptive statistics. Descriptive statistics provide a concise summary of data."
   ]
  },
  {
   "cell_type": "markdown",
   "metadata": {},
   "source": [
    "# 3.1. Population and Sample\n",
    "#Introducing random samplig and samples\n"
   ]
  },
  {
   "cell_type": "code",
   "execution_count": 13,
   "metadata": {},
   "outputs": [
    {
     "name": "stdout",
     "output_type": "stream",
     "text": [
      "a_sample_without_replacement:\n",
      " 9    60\n",
      "7    16\n",
      "2    85\n",
      "5    13\n",
      "8    50\n",
      "Name: Population, dtype: int64\n",
      "a_sample_with_replacement:\n",
      " 1    48\n",
      "7    16\n",
      "0    47\n",
      "8    50\n",
      "1    48\n",
      "Name: Population, dtype: int64\n"
     ]
    }
   ],
   "source": [
    "# sampling with or without replacement.\n",
    "#Exemple:\n",
    "data = pd.DataFrame()\n",
    "data['Population'] = [47,48,85,20,19,13,72,16,50,60]\n",
    "a_sample_without_replacement = data['Population'].sample(5,replace=False)\n",
    "a_sample_with_replacement = data['Population'].sample(5,replace=True)\n",
    "print(\"a_sample_without_replacement:\\n\", a_sample_without_replacement)\n",
    "print(\"a_sample_with_replacement:\\n\", a_sample_with_replacement)"
   ]
  },
  {
   "cell_type": "code",
   "execution_count": 24,
   "metadata": {},
   "outputs": [
    {
     "name": "stdout",
     "output_type": "stream",
     "text": [
      "Population mean is:  43.0\n",
      "Population variance is:  571.8\n",
      "Population standard deviation is:  23.912339910598458\n",
      "Population size is:  10\n",
      "Sample mean is:  50.1\n",
      "Sample variance is:  482.7666666666667\n",
      "Sample standard deviation is:  21.971951817411824\n",
      "Sample size is:  10\n"
     ]
    }
   ],
   "source": [
    "#Parameters. Characteristic or summary number of population. Examples: mean, variance, standard deviation.\n",
    "#Statistics. Characzteristic or summary number of sample. Examples: sample mean, sample variance, sample standard deviation.\n",
    "print(\"Population mean is: \", data['Population'].mean())\n",
    "print(\"Population variance is: \", data['Population'].var(ddof=0)) #ddof=0 vol dir que el denominador sigui N.\n",
    "print(\"Population standard deviation is: \", data['Population'].std(ddof=0))\n",
    "print(\"Population size is: \", data['Population'].shape[0])\n",
    "\n",
    "a_sample=data['Population'].sample(10,replace=True)\n",
    "print(\"Sample mean is: \", a_sample.mean())\n",
    "print(\"Sample variance is: \", a_sample.var(ddof=1)) #ddof=1 vol dir que el denominador sigui N-1.\n",
    "#En la variància d'una sel·leció (sample), cal restar 1 a la N per a semblar-se més a la variància de tota la població.\n",
    "#Degrees of freedom: The numbers of values in calculation that are free to variate.\n",
    "print(\"Sample standard deviation is: \", a_sample.std(ddof=1))\n",
    "print(\"Sample size is: \", a_sample.shape[0])"
   ]
  },
  {
   "cell_type": "markdown",
   "metadata": {},
   "source": [
    "# 3.2. Distribution of Sample Statistics\n",
    "#Distribution of sample.\n",
    "#Understand distribution of sample mean."
   ]
  },
  {
   "cell_type": "code",
   "execution_count": null,
   "metadata": {},
   "outputs": [],
   "source": []
  },
  {
   "cell_type": "markdown",
   "metadata": {},
   "source": [
    "# 3.3 Confidence Interval\n",
    "#How to estimate using confidence interval"
   ]
  },
  {
   "cell_type": "markdown",
   "metadata": {},
   "source": [
    "# 3.4 Hypothesis Testing\n",
    "#Validate claims using hypothesis testing"
   ]
  }
 ],
 "metadata": {
  "kernelspec": {
   "display_name": "Python 3",
   "language": "python",
   "name": "python3"
  },
  "language_info": {
   "codemirror_mode": {
    "name": "ipython",
    "version": 3
   },
   "file_extension": ".py",
   "mimetype": "text/x-python",
   "name": "python",
   "nbconvert_exporter": "python",
   "pygments_lexer": "ipython3",
   "version": "3.8.1"
  }
 },
 "nbformat": 4,
 "nbformat_minor": 2
}
